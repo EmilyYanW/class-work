{
 "cells": [
  {
   "cell_type": "code",
   "execution_count": 1,
   "metadata": {
    "collapsed": false
   },
   "outputs": [
    {
     "name": "stderr",
     "output_type": "stream",
     "text": [
      "E\n",
      "======================================================================\n",
      "ERROR: /Users/EmilyDelluque/Library/Jupyter/runtime/kernel-f03d0fbd-97f7-417d-b1c0-b2e2cea05694 (unittest.loader._FailedTest)\n",
      "----------------------------------------------------------------------\n",
      "AttributeError: module '__main__' has no attribute '/Users/EmilyDelluque/Library/Jupyter/runtime/kernel-f03d0fbd-97f7-417d-b1c0-b2e2cea05694'\n",
      "\n",
      "----------------------------------------------------------------------\n",
      "Ran 1 test in 0.004s\n",
      "\n",
      "FAILED (errors=1)\n"
     ]
    },
    {
     "ename": "SystemExit",
     "evalue": "True",
     "output_type": "error",
     "traceback": [
      "An exception has occurred, use %tb to see the full traceback.\n",
      "\u001b[0;31mSystemExit\u001b[0m\u001b[0;31m:\u001b[0m True\n"
     ]
    },
    {
     "name": "stderr",
     "output_type": "stream",
     "text": [
      "/anaconda/lib/python3.6/site-packages/IPython/core/interactiveshell.py:2889: UserWarning: To exit: use 'exit', 'quit', or Ctrl-D.\n",
      "  warn(\"To exit: use 'exit', 'quit', or Ctrl-D.\", stacklevel=1)\n"
     ]
    }
   ],
   "source": [
    "import unittest\n",
    "\n",
    "from employee import Employee\n",
    "\n",
    "class TestEmployee(unittest.TestCase):\n",
    "    \"\"\"Tests for the module employee.\"\"\"\n",
    "\n",
    "    def setUp(self):\n",
    "        \"\"\"Make an employee to use in tests.\"\"\"\n",
    "        self.eric = Employee('eric', 'matthes', 65000)\n",
    "\n",
    "    def test_give_default_raise(self):\n",
    "        \"\"\"Test that a default raise works correctly.\"\"\"\n",
    "        self.eric.give_raise()\n",
    "        self.assertEqual(self.eric.salary, 70000)\n",
    "\n",
    "    def test_give_custom_raise(self):\n",
    "        \"\"\"Test that a custom raise works correctly.\"\"\"\n",
    "        self.eric.give_raise(10000)\n",
    "        self.assertEqual(self.eric.salary, 75000)\n",
    "\n",
    "unittest.main()"
   ]
  },
  {
   "cell_type": "code",
   "execution_count": null,
   "metadata": {
    "collapsed": true
   },
   "outputs": [],
   "source": []
  }
 ],
 "metadata": {
  "kernelspec": {
   "display_name": "Python 3",
   "language": "python",
   "name": "python3"
  },
  "language_info": {
   "codemirror_mode": {
    "name": "ipython",
    "version": 3
   },
   "file_extension": ".py",
   "mimetype": "text/x-python",
   "name": "python",
   "nbconvert_exporter": "python",
   "pygments_lexer": "ipython3",
   "version": "3.6.3"
  }
 },
 "nbformat": 4,
 "nbformat_minor": 2
}
