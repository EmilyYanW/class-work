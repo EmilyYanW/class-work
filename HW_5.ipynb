{
 "cells": [
  {
   "cell_type": "code",
   "execution_count": 1,
   "metadata": {
    "collapsed": false
   },
   "outputs": [
    {
     "name": "stdout",
     "output_type": "stream",
     "text": [
      "What kind of car would you like? Honda\n",
      "Let me see if I can find you a Honda.\n"
     ]
    }
   ],
   "source": [
    "# 7-1\n",
    "\n",
    "car = input(\"What kind of car would you like? \")\n",
    "\n",
    "print(\"Let me see if I can find you a \" + car.title() + \".\")"
   ]
  },
  {
   "cell_type": "code",
   "execution_count": 2,
   "metadata": {
    "collapsed": false
   },
   "outputs": [
    {
     "name": "stdout",
     "output_type": "stream",
     "text": [
      "How many people are in your dinner party tonight? 4\n",
      "Your table is ready.\n"
     ]
    }
   ],
   "source": [
    "# 7-2\n",
    "\n",
    "party_size = input(\"How many people are in your dinner party tonight? \")\n",
    "party_size = int(party_size)\n",
    "\n",
    "if party_size > 8:\n",
    "    print(\"I'm sorry, you'll have to wait for a table.\")\n",
    "else:\n",
    "    print(\"Your table is ready.\")"
   ]
  },
  {
   "cell_type": "code",
   "execution_count": 3,
   "metadata": {
    "collapsed": false
   },
   "outputs": [
    {
     "name": "stdout",
     "output_type": "stream",
     "text": [
      "Give me a number, please: 4\n",
      "4 is not a multiple of 10.\n"
     ]
    }
   ],
   "source": [
    "# 7-3\n",
    "\n",
    "number = input(\"Give me a number, please: \")\n",
    "number = int(number)\n",
    "\n",
    "if number % 10 == 0:\n",
    "    print(str(number) + \" is a multiple of 10.\")\n",
    "else:\n",
    "    print(str(number) + \" is not a multiple of 10.\")"
   ]
  },
  {
   "cell_type": "code",
   "execution_count": 4,
   "metadata": {
    "collapsed": false
   },
   "outputs": [
    {
     "name": "stdout",
     "output_type": "stream",
     "text": [
      "\n",
      "What topping would you like on your pizza?\n",
      "Enter 'quit' when you are finished: quit\n"
     ]
    }
   ],
   "source": [
    "# 7-4\n",
    "\n",
    "prompt = \"\\nWhat topping would you like on your pizza?\"\n",
    "prompt += \"\\nEnter 'quit' when you are finished: \"\n",
    "\n",
    "while True:\n",
    "    topping = input(prompt)\n",
    "    if topping != 'quit':\n",
    "        print(\"  I'll add \" + topping + \" to your pizza.\")\n",
    "    else:\n",
    "        break"
   ]
  },
  {
   "cell_type": "code",
   "execution_count": 5,
   "metadata": {
    "collapsed": false
   },
   "outputs": [
    {
     "name": "stdout",
     "output_type": "stream",
     "text": [
      "How old are you?\n",
      "Enter 'quit' when you are finished. 14\n",
      "  Your ticket is $15.\n",
      "How old are you?\n",
      "Enter 'quit' when you are finished. quit\n"
     ]
    }
   ],
   "source": [
    "# 7-5\n",
    "\n",
    "prompt = \"How old are you?\"\n",
    "prompt += \"\\nEnter 'quit' when you are finished. \"\n",
    "\n",
    "while True:\n",
    "    age = input(prompt)\n",
    "    if age == 'quit':\n",
    "        break\n",
    "    age = int(age)\n",
    "\n",
    "    if age < 3:\n",
    "        print(\"  You get in free!\")\n",
    "    elif age < 13:\n",
    "        print(\"  Your ticket is $10.\")\n",
    "    else:\n",
    "        print(\"  Your ticket is $15.\")"
   ]
  },
  {
   "cell_type": "code",
   "execution_count": 6,
   "metadata": {
    "collapsed": false
   },
   "outputs": [
    {
     "name": "stdout",
     "output_type": "stream",
     "text": [
      "\n",
      "What's your name? emily\n",
      "If you could visit one place in the world, where would it be? Apple\n",
      "\n",
      "Would you like to let someone else respond? (yes/no) no\n",
      "\n",
      "--- Results ---\n",
      "Emily would like to visit Apple.\n"
     ]
    }
   ],
   "source": [
    "# 7-10\n",
    "\n",
    "name_prompt = \"\\nWhat's your name? \"\n",
    "place_prompt = \"If you could visit one place in the world, where would it be? \"\n",
    "continue_prompt = \"\\nWould you like to let someone else respond? (yes/no) \"\n",
    "\n",
    "# Responses will be stored in the form {name: place}.\n",
    "responses = {}\n",
    "\n",
    "while True:\n",
    "    # Ask the user where they'd like to go.\n",
    "    name = input(name_prompt)\n",
    "    place = input(place_prompt)\n",
    "\n",
    "    # Store the response.\n",
    "    responses[name] = place\n",
    "\n",
    "    # Ask if there's anyone else responding.\n",
    "    repeat = input(continue_prompt)\n",
    "    if repeat != 'yes':\n",
    "        break\n",
    "\n",
    "# Show results of the survey.\n",
    "print(\"\\n--- Results ---\")\n",
    "for name, place in responses.items():\n",
    "    print(name.title() + \" would like to visit \" + place.title() + \".\")"
   ]
  },
  {
   "cell_type": "code",
   "execution_count": 7,
   "metadata": {
    "collapsed": false
   },
   "outputs": [
    {
     "name": "stdout",
     "output_type": "stream",
     "text": [
      "\n",
      "I'm going to make a large t-shirt.\n",
      "It will say, \"I love Python!\"\n",
      "\n",
      "I'm going to make a medium t-shirt.\n",
      "It will say, \"I love Python!\"\n",
      "\n",
      "I'm going to make a small t-shirt.\n",
      "It will say, \"Programmers are loopy.\"\n"
     ]
    }
   ],
   "source": [
    "# 8-4\n",
    "\n",
    "def make_shirt(size='large', message='I love Python!'):\n",
    "    \"\"\"Summarize the shirt that's going to be made.\"\"\"\n",
    "    print(\"\\nI'm going to make a \" + size + \" t-shirt.\")\n",
    "    print('It will say, \"' + message + '\"')\n",
    "\n",
    "make_shirt()\n",
    "make_shirt(size='medium')\n",
    "make_shirt('small', 'Programmers are loopy.')"
   ]
  },
  {
   "cell_type": "code",
   "execution_count": 8,
   "metadata": {
    "collapsed": false
   },
   "outputs": [
    {
     "name": "stdout",
     "output_type": "stream",
     "text": [
      "Santiago is in Chile.\n",
      "Reykjavik is in Iceland.\n",
      "Punta Arenas is in Chile.\n"
     ]
    }
   ],
   "source": [
    "# 8-5\n",
    "\n",
    "def describe_city(city, country='chile'):\n",
    "    \"\"\"Describe a city.\"\"\"\n",
    "    msg = city.title() + \" is in \" + country.title() + \".\"\n",
    "    print(msg)\n",
    "\n",
    "describe_city('santiago')\n",
    "describe_city('reykjavik', 'iceland')\n",
    "describe_city('punta arenas')"
   ]
  },
  {
   "cell_type": "code",
   "execution_count": 9,
   "metadata": {
    "collapsed": false
   },
   "outputs": [
    {
     "name": "stdout",
     "output_type": "stream",
     "text": [
      "{'manufacturer': 'Subaru', 'model': 'Outback', 'color': 'blue', 'tow_package': True}\n",
      "{'manufacturer': 'Honda', 'model': 'Accord', 'year': 1991, 'color': 'white', 'headlights': 'popup'}\n"
     ]
    }
   ],
   "source": [
    "# 8-14 cars\n",
    "\n",
    "def make_car(manufacturer, model, **options):\n",
    "    \"\"\"Make a dictionary representing a car.\"\"\"\n",
    "    car_dict = {\n",
    "        'manufacturer': manufacturer.title(),\n",
    "        'model': model.title(),\n",
    "        }\n",
    "    for option, value in options.items():\n",
    "        car_dict[option] = value\n",
    "\n",
    "    return car_dict\n",
    "\n",
    "my_outback = make_car('subaru', 'outback', color='blue', tow_package=True)\n",
    "print(my_outback)\n",
    "\n",
    "my_accord = make_car('honda', 'accord', year=1991, color='white',\n",
    "        headlights='popup')\n",
    "print(my_accord)"
   ]
  },
  {
   "cell_type": "code",
   "execution_count": null,
   "metadata": {
    "collapsed": true
   },
   "outputs": [],
   "source": []
  }
 ],
 "metadata": {
  "kernelspec": {
   "display_name": "Python 3",
   "language": "python",
   "name": "python3"
  },
  "language_info": {
   "codemirror_mode": {
    "name": "ipython",
    "version": 3
   },
   "file_extension": ".py",
   "mimetype": "text/x-python",
   "name": "python",
   "nbconvert_exporter": "python",
   "pygments_lexer": "ipython3",
   "version": "3.6.3"
  }
 },
 "nbformat": 4,
 "nbformat_minor": 2
}
