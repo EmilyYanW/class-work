{
 "cells": [
  {
   "cell_type": "markdown",
   "metadata": {},
   "source": [
    "# This is my first jupyter notebook\n",
    "(yes this is how it is spelled and capitalized)"
   ]
  },
  {
   "cell_type": "markdown",
   "metadata": {},
   "source": [
    "# Heading 1\n",
    " ## Heading 2\n",
    " ### Heading 3\n",
    " #### Heading 4\n",
    " ##### Heading 5\n",
    "I didn't really need that comment! "
   ]
  },
  {
   "cell_type": "markdown",
   "metadata": {},
   "source": [
    "  ## This is a bulleted list\n",
    "      * Item 1\n",
    "      * Item 2\n",
    "            * Item 2a\n",
    "            * Item 2b\n",
    "                  * Item 2ba\n",
    "            * Item 2c\n",
    "* Item 3"
   ]
  },
  {
   "cell_type": "markdown",
   "metadata": {},
   "source": [
    "### This is a numbered list\n",
    "      1. Item 1\n",
    "      2. Item 2\n",
    "      7. Item 3\n",
    "      15. Item 4\n",
    "          * Item 4a\n",
    "* Item 4b"
   ]
  },
  {
   "cell_type": "code",
   "execution_count": null,
   "metadata": {
    "collapsed": true
   },
   "outputs": [],
   "source": [
    "#### Let's look at bold and italics\n",
    " In this line of text *this item will be in italics* while this will not. By the\n",
    "same token _this will be_ but this won't. In this line of text **this item will be bold** while this will not. By the same token __this will be but__ this won't. This would be **bold and *italics* text**."
   ]
  }
 ],
 "metadata": {
  "kernelspec": {
   "display_name": "Python 3",
   "language": "python",
   "name": "python3"
  },
  "language_info": {
   "codemirror_mode": {
    "name": "ipython",
    "version": 3
   },
   "file_extension": ".py",
   "mimetype": "text/x-python",
   "name": "python",
   "nbconvert_exporter": "python",
   "pygments_lexer": "ipython3",
   "version": "3.6.3"
  }
 },
 "nbformat": 4,
 "nbformat_minor": 2
}
